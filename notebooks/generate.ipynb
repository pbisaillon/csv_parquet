{
 "cells": [
  {
   "cell_type": "code",
   "execution_count": 60,
   "id": "after-manufacturer",
   "metadata": {},
   "outputs": [],
   "source": [
    "import pandas as pd\n",
    "import numpy as np\n",
    "import os\n",
    "import timeit\n",
    "import matplotlib.pyplot as plt\n",
    "%matplotlib inline"
   ]
  },
  {
   "cell_type": "code",
   "execution_count": 61,
   "id": "northern-trigger",
   "metadata": {},
   "outputs": [],
   "source": [
    "# We will compare the time it takes to load files into pandas from a CSV file and Parquet"
   ]
  },
  {
   "cell_type": "code",
   "execution_count": 62,
   "id": "analyzed-uncertainty",
   "metadata": {},
   "outputs": [],
   "source": [
    "nrows = [1,2,10,50,100,1000,10000,10000,500000,1000000]\n",
    "ncols = [1,2,4,8,16,32,64]"
   ]
  },
  {
   "cell_type": "code",
   "execution_count": 63,
   "id": "cosmetic-target",
   "metadata": {},
   "outputs": [],
   "source": [
    "for c in ncols:\n",
    "    for r in nrows:\n",
    "        df = pd.DataFrame(np.random.normal(size=(r,c)))\n",
    "        \n",
    "        #Set the columns name\n",
    "        df.columns = [f\"Col_{i}\" for i in range(c)]\n",
    "        \n",
    "        #save csv file\n",
    "        df.to_csv(f'../data/{r}_{c}.csv', index=False)\n",
    "        \n",
    "        #save parquet file\n",
    "        df.to_parquet(f'../data/{r}_{c}.parquet', engine='pyarrow', index=False, compression=None)"
   ]
  },
  {
   "cell_type": "code",
   "execution_count": 64,
   "id": "southeast-florida",
   "metadata": {},
   "outputs": [],
   "source": [
    "## Plotting the size on disk of parquet file vs csv file\n",
    "size_ratio = {}\n",
    "for c in ncols:\n",
    "    size_ratio[f'{c}'] = []\n",
    "    for r in nrows:\n",
    "        size_ratio[f'{c}'].append(os.path.getsize(f'../data/{r}_{c}.parquet') / os.path.getsize(f'../data/{r}_{c}.csv'))\n",
    "\n"
   ]
  },
  {
   "cell_type": "code",
   "execution_count": 65,
   "id": "magnetic-minneapolis",
   "metadata": {},
   "outputs": [
    {
     "data": {
      "image/png": "[encoded data removed]",
      "text/plain": [
       "<Figure size 432x288 with 1 Axes>"
      ]
     },
     "metadata": {
      "needs_background": "light"
     },
     "output_type": "display_data"
    }
   ],
   "source": [
    "\n",
    "fig, ax = plt.subplots()\n",
    "for c in ncols:\n",
    "    ax.plot(nrows, size_ratio[f'{c}'])\n",
    "\n",
    "ax.axhline(y=0.42, color='k', linestyle='--')\n",
    "ax.set_xlabel('Number of rows')\n",
    "ax.set_ylabel('Size ratio parquet/csv')\n",
    "ax.set_xscale('log')\n",
    "ax.set_yscale('log')\n",
    "ax.set_ylim([0.1,50])\n",
    "ax.grid(True)\n",
    "\n",
    "fig.tight_layout()\n",
    "plt.show()"
   ]
  },
  {
   "cell_type": "code",
   "execution_count": 66,
   "id": "unexpected-split",
   "metadata": {},
   "outputs": [],
   "source": [
    "## Loading the CSV or Parquet in memory"
   ]
  },
  {
   "cell_type": "code",
   "execution_count": 78,
   "id": "universal-arena",
   "metadata": {},
   "outputs": [],
   "source": [
    "N = 500\n",
    "\n",
    "def load_csv(c, r):\n",
    "    pd.read_csv(f'../data/{r}_{c}.csv')\n",
    "\n",
    "def load_parquet(c, r):\n",
    "    pd.read_parquet(f'../data/{r}_{c}.parquet')"
   ]
  },
  {
   "cell_type": "code",
   "execution_count": null,
   "id": "static-afternoon",
   "metadata": {},
   "outputs": [],
   "source": [
    "## Plotting the size on disk of parquet file vs csv file\n",
    "speed_ratio = {}\n",
    "for c in ncols:\n",
    "    speed_ratio[f'{c}'] = []\n",
    "    for r in nrows:\n",
    "        speed_ratio[f'{c}'].append(timeit.Timer(lambda: load_csv(c, r)).timeit(N) / timeit.Timer(lambda: load_parquet(c, r)).timeit(N))\n",
    "\n",
    "\n",
    "\n",
    "\n"
   ]
  },
  {
   "cell_type": "code",
   "execution_count": 70,
   "id": "dedicated-queens",
   "metadata": {},
   "outputs": [],
   "source": [
    "load_csv(2, 10)\n"
   ]
  },
  {
   "cell_type": "code",
   "execution_count": null,
   "id": "cultural-piece",
   "metadata": {},
   "outputs": [],
   "source": []
  }
 ],
 "metadata": {
  "kernelspec": {
   "display_name": "Python 3",
   "language": "python",
   "name": "python3"
  },
  "language_info": {
   "codemirror_mode": {
    "name": "ipython",
    "version": 3
   },
   "file_extension": ".py",
   "mimetype": "text/x-python",
   "name": "python",
   "nbconvert_exporter": "python",
   "pygments_lexer": "ipython3",
   "version": "3.7.2"
  }
 },
 "nbformat": 4,
 "nbformat_minor": 5
}
